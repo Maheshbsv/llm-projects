{
 "cells": [
  {
   "cell_type": "code",
   "execution_count": null,
   "metadata": {},
   "outputs": [],
   "source": [
    "%pip install requests"
   ]
  },
  {
   "cell_type": "code",
   "execution_count": null,
   "metadata": {},
   "outputs": [],
   "source": [
    "%pip install transformers"
   ]
  },
  {
   "cell_type": "code",
   "execution_count": null,
   "metadata": {},
   "outputs": [],
   "source": [
    "from dotenv import load_dotenv, find_dotenv\n",
    "import os\n",
    "from transformers import pipeline\n",
    "\n",
    "load_dotenv(find_dotenv())\n",
    "\n",
    "HUGGINGFACE_API_KEY = os.getenv(\"HUGGINGFACE_API_KEY\")\n"
   ]
  },
  {
   "cell_type": "code",
   "execution_count": 14,
   "metadata": {},
   "outputs": [
    {
     "name": "stdout",
     "output_type": "stream",
     "text": [
      "[{'generated_text': 'bride and groom posing for a picture in traditional indian attire'}]\n"
     ]
    }
   ],
   "source": [
    "import requests\n",
    "\n",
    "API_URL = \"https://api-inference.huggingface.co/models/Salesforce/blip-image-captioning-large\"\n",
    "headers = {\"Authorization\": f\"Bearer {HUGGINGFACE_API_KEY}\"}\n",
    "\n",
    "def query(filename):\n",
    "    with open(filename, \"rb\") as f:\n",
    "        data = f.read()\n",
    "    response = requests.post(API_URL, headers=headers, data=data)\n",
    "    return response.json()[0]['generated_text']\n",
    "\n",
    "output = query(\"demo.jpeg\")\n"
   ]
  },
  {
   "cell_type": "code",
   "execution_count": null,
   "metadata": {},
   "outputs": [],
   "source": [
    "#This will download the huggingface model to local machine\n",
    "# def img2text(url):\n",
    "#     image_to_text = pipeline(\"image-to-text\", model=\"Salesforce/blip-image-captioning-large\")\n",
    "#     text = image_to_text(url)\n",
    "#     print(text)\n",
    "#     return text\n"
   ]
  },
  {
   "cell_type": "code",
   "execution_count": 4,
   "metadata": {},
   "outputs": [
    {
     "name": "stderr",
     "output_type": "stream",
     "text": [
      "Using pad_token, but it is not set yet.\n",
      "Setting `pad_token_id` to `eos_token_id`:50256 for open-end generation.\n"
     ]
    },
    {
     "name": "stdout",
     "output_type": "stream",
     "text": [
      "You are a story teller;\n",
      "    You can generate a short story based on a simple narrative, the story should be no more than 20 words;\n",
      "\n",
      "    CONTEXT: A boy is playing with a ball\n",
      "    STORY: \n",
      "     \"How long were you playing when you picked up\n"
     ]
    }
   ],
   "source": [
    "from langchain import LLMChain, PromptTemplate\n",
    "from langchain.llms import HuggingFaceEndpoint\n",
    "\n",
    "\n",
    "from langchain_community.llms.huggingface_pipeline import HuggingFacePipeline\n",
    "\n",
    "\n",
    "def generate_story(scenario):\n",
    "\n",
    "    hf = HuggingFacePipeline.from_model_id(\n",
    "        model_id=\"gpt2\",\n",
    "        task=\"text-generation\",\n",
    "        pipeline_kwargs={\"max_new_tokens\": 30}\n",
    "        )\n",
    "    prompt_template = \"\"\"You are a story teller;\n",
    "    You can generate a short story based on a simple narrative, the story should be no more than 20 words;\n",
    "\n",
    "    CONTEXT: {scenario}\n",
    "    STORY: \n",
    "    \"\"\"\n",
    "\n",
    "    prompt = PromptTemplate(template=prompt_template, input_variables=[\"scenario\"])\n",
    "\n",
    "    chain = prompt | hf\n",
    "\n",
    "    print(chain.invoke({\"scenario\": scenario}))\n",
    "\n",
    "\n",
    "generate_story(\"A boy is playing with a ball\")"
   ]
  }
 ],
 "metadata": {
  "kernelspec": {
   "display_name": "Python 3",
   "language": "python",
   "name": "python3"
  },
  "language_info": {
   "codemirror_mode": {
    "name": "ipython",
    "version": 3
   },
   "file_extension": ".py",
   "mimetype": "text/x-python",
   "name": "python",
   "nbconvert_exporter": "python",
   "pygments_lexer": "ipython3",
   "version": "3.11.5"
  }
 },
 "nbformat": 4,
 "nbformat_minor": 2
}
